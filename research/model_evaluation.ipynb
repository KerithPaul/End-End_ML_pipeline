{
 "cells": [
  {
   "cell_type": "code",
   "execution_count": 1,
   "id": "03769f9b",
   "metadata": {},
   "outputs": [],
   "source": [
    "import os"
   ]
  },
  {
   "cell_type": "code",
   "execution_count": 2,
   "id": "664dfe72",
   "metadata": {},
   "outputs": [
    {
     "data": {
      "text/plain": [
       "'k:\\\\Environments\\\\End-End_ML_pipeline\\\\research'"
      ]
     },
     "execution_count": 2,
     "metadata": {},
     "output_type": "execute_result"
    }
   ],
   "source": [
    "%pwd"
   ]
  },
  {
   "cell_type": "code",
   "execution_count": 3,
   "id": "0db6715e",
   "metadata": {},
   "outputs": [],
   "source": [
    "os.chdir(\"../\")"
   ]
  },
  {
   "cell_type": "code",
   "execution_count": 11,
   "id": "9f3d80b8",
   "metadata": {},
   "outputs": [
    {
     "name": "stdout",
     "output_type": "stream",
     "text": [
      "[2025-05-20 22:14:03,126]: INFO: _client: HTTP Request: GET https://dagshub.com/api/v1/user \"HTTP/1.1 200 OK\"]\n"
     ]
    },
    {
     "data": {
      "text/html": [
       "<pre style=\"white-space:pre;overflow-x:auto;line-height:normal;font-family:Menlo,'DejaVu Sans Mono',consolas,'Courier New',monospace\">Accessing as KerithPaul\n",
       "</pre>\n"
      ],
      "text/plain": [
       "Accessing as KerithPaul\n"
      ]
     },
     "metadata": {},
     "output_type": "display_data"
    },
    {
     "name": "stdout",
     "output_type": "stream",
     "text": [
      "[2025-05-20 22:14:03,135]: INFO: helpers: Accessing as KerithPaul]\n",
      "[2025-05-20 22:14:03,828]: INFO: _client: HTTP Request: GET https://dagshub.com/api/v1/repos/KerithPaul/End-End_ML_pipeline \"HTTP/1.1 200 OK\"]\n",
      "[2025-05-20 22:14:04,415]: INFO: _client: HTTP Request: GET https://dagshub.com/api/v1/user \"HTTP/1.1 200 OK\"]\n"
     ]
    },
    {
     "data": {
      "text/html": [
       "<pre style=\"white-space:pre;overflow-x:auto;line-height:normal;font-family:Menlo,'DejaVu Sans Mono',consolas,'Courier New',monospace\">Initialized MLflow to track repo <span style=\"color: #008000; text-decoration-color: #008000\">\"KerithPaul/End-End_ML_pipeline\"</span>\n",
       "</pre>\n"
      ],
      "text/plain": [
       "Initialized MLflow to track repo \u001b[32m\"KerithPaul/End-End_ML_pipeline\"\u001b[0m\n"
      ]
     },
     "metadata": {},
     "output_type": "display_data"
    },
    {
     "name": "stdout",
     "output_type": "stream",
     "text": [
      "[2025-05-20 22:14:04,420]: INFO: helpers: Initialized MLflow to track repo \"KerithPaul/End-End_ML_pipeline\"]\n"
     ]
    },
    {
     "data": {
      "text/html": [
       "<pre style=\"white-space:pre;overflow-x:auto;line-height:normal;font-family:Menlo,'DejaVu Sans Mono',consolas,'Courier New',monospace\">Repository KerithPaul/End-End_ML_pipeline initialized!\n",
       "</pre>\n"
      ],
      "text/plain": [
       "Repository KerithPaul/End-End_ML_pipeline initialized!\n"
      ]
     },
     "metadata": {},
     "output_type": "display_data"
    },
    {
     "name": "stdout",
     "output_type": "stream",
     "text": [
      "[2025-05-20 22:14:04,422]: INFO: helpers: Repository KerithPaul/End-End_ML_pipeline initialized!]\n",
      "🏃 View run caring-koi-760 at: https://dagshub.com/KerithPaul/End-End_ML_pipeline.mlflow/#/experiments/0/runs/93031df15b4d4897ada575da8e865a6d\n",
      "🧪 View experiment at: https://dagshub.com/KerithPaul/End-End_ML_pipeline.mlflow/#/experiments/0\n"
     ]
    }
   ],
   "source": [
    "import dagshub\n",
    "dagshub.init(repo_owner='KerithPaul', repo_name='End-End_ML_pipeline', mlflow=True)\n",
    "\n",
    "import mlflow\n",
    "with mlflow.start_run():\n",
    "  mlflow.log_param('parameter name', 'value')\n",
    "  mlflow.log_metric('metric name', 1)"
   ]
  },
  {
   "cell_type": "code",
   "execution_count": 18,
   "id": "c17d7ee0",
   "metadata": {},
   "outputs": [],
   "source": [
    "from dataclasses import dataclass\n",
    "from pathlib import Path\n",
    "\n",
    "@dataclass\n",
    "class ModelEvaluationConfig:\n",
    "   root_dir: Path\n",
    "   test_data_path: Path\n",
    "   model_path: Path\n",
    "   metric_file_name: Path\n",
    "   all_params: dict\n",
    "   target_column: str\n",
    "   mlflow_uri: str"
   ]
  },
  {
   "cell_type": "code",
   "execution_count": 19,
   "id": "9a0907e8",
   "metadata": {},
   "outputs": [],
   "source": [
    "from DS_Ops.constants import *\n",
    "from DS_Ops.utils.common import read_yaml, create_directories"
   ]
  },
  {
   "cell_type": "code",
   "execution_count": 20,
   "id": "4f2e0dde",
   "metadata": {},
   "outputs": [],
   "source": [
    "class ConfigurationManager:\n",
    "    def __init__(\n",
    "            self,\n",
    "            config_filepath = CONFIG_FILE_PATH,\n",
    "            params_filepath = PARAMS_FILE_PATH,\n",
    "            schema_filepath = SCHEMA_FILE_PATH):\n",
    "        \n",
    "        self.config = read_yaml(config_filepath)\n",
    "        self.params = read_yaml(params_filepath)\n",
    "        self.schema = read_yaml(schema_filepath)\n",
    "\n",
    "        create_directories([self.config.artifacts_root])\n",
    "\n",
    "\n",
    "    def get_model_evaluation_config(self) -> ModelEvaluationConfig:\n",
    "            config = self.config.model_evaluation\n",
    "            params = self.params.ElasticNet\n",
    "            schema = self.schema.TARGET_COLUMN\n",
    "\n",
    "            create_directories([config.root_dir])\n",
    "\n",
    "            model_evaluation_config = ModelEvaluationConfig(\n",
    "                root_dir = config.root_dir,\n",
    "                test_data_path = config.test_data_path,\n",
    "                model_path = config.model_path,\n",
    "                all_params = params,\n",
    "                metric_file_name= config.metric_file_name,\n",
    "                target_column = schema.name,\n",
    "                mlflow_uri = \"https://dagshub.com/KerithPaul/End-End_ML_pipeline.mlflow\"\n",
    "            )\n",
    "            return model_evaluation_config"
   ]
  },
  {
   "cell_type": "code",
   "execution_count": 21,
   "id": "0a3063c1",
   "metadata": {},
   "outputs": [],
   "source": [
    "import os\n",
    "import pandas as pd\n",
    "from sklearn.metrics import mean_squared_error, mean_absolute_error, r2_score\n",
    "from urllib.parse import urlparse\n",
    "import mlflow\n",
    "import mlflow.sklearn\n",
    "import numpy as np\n",
    "import joblib"
   ]
  },
  {
   "cell_type": "code",
   "execution_count": 22,
   "id": "4dfb91ca",
   "metadata": {},
   "outputs": [],
   "source": [
    "import mlflow.sklearn\n",
    "from DS_Ops.utils.common import save_json\n",
    "\n",
    "\n",
    "class ModelEvaluation:\n",
    "    def __init__(self, config: ModelEvaluationConfig):\n",
    "        self.config = config\n",
    "\n",
    "\n",
    "    def eval_metrics(self,actual,pred):\n",
    "        rmse = np.sqrt(mean_squared_error(actual, pred))\n",
    "        mae = mean_absolute_error(actual,pred)\n",
    "        r2 = r2_score(actual,pred)\n",
    "        \n",
    "        return rmse, mae, r2\n",
    "    \n",
    "\n",
    "    def log_into_mlflow(self):\n",
    "\n",
    "        test_data = pd.read_csv(self.config.test_data_path)\n",
    "        model = joblib.load(self.config.model_path)\n",
    "\n",
    "        test_x = test_data.drop([self.config.target_column], axis=1)\n",
    "        test_y = test_data[[self.config.target_column]]\n",
    "\n",
    "        mlflow.set_registry_uri(self.config.mlflow_uri)\n",
    "        tracking_url_type_store = urlparse(mlflow.get_tracking_uri()).scheme\n",
    "\n",
    "        with mlflow.start_run():\n",
    "\n",
    "            predicted_qualities = model.predict(test_x)\n",
    "            (rmse, mae, r2) = self.eval_metrics(test_y, predicted_qualities)\n",
    "\n",
    "            scores = {\"rmse\": rmse, \"mae\": mae, \"r2\": r2}\n",
    "            save_json(path = Path(self.config.metric_file_name), data=scores)\n",
    "\n",
    "            mlflow.log_params(self.config.all_params)\n",
    "\n",
    "            mlflow.log_metric(\"rmse\", rmse)\n",
    "            mlflow.log_metric(\"r2\", r2)\n",
    "            mlflow.log_metric(\"mae\", mae)\n",
    "\n",
    "\n",
    "            if tracking_url_type_store != \"file\":\n",
    "\n",
    "                mlflow.sklearn.log_model(model, \"model\", registered_model_name=\"ElasticnetModel\")\n",
    "\n",
    "            else:\n",
    "\n",
    "                mlflow.sklearn.log_model(model, \"model\")\n",
    "\n",
    "                "
   ]
  },
  {
   "cell_type": "code",
   "execution_count": 23,
   "id": "09dfaa1d",
   "metadata": {},
   "outputs": [
    {
     "name": "stdout",
     "output_type": "stream",
     "text": [
      "[2025-05-20 22:17:42,461]: INFO: common: yaml file: config\\config.yaml loaded successfully]\n",
      "[2025-05-20 22:17:42,474]: INFO: common: yaml file: params.yaml loaded successfully]\n",
      "[2025-05-20 22:17:42,476]: INFO: common: yaml file: schema.yaml loaded successfully]\n",
      "[2025-05-20 22:17:42,477]: INFO: common: created directory at: ./artifacts]\n",
      "[2025-05-20 22:17:42,479]: INFO: common: created directory at: artifacts/model_evaluation]\n",
      "[2025-05-20 22:17:42,875]: INFO: common: json file saved at: artifacts\\model_evaluation\\metrics.json]\n"
     ]
    },
    {
     "name": "stderr",
     "output_type": "stream",
     "text": [
      "2025/05/20 22:17:49 WARNING mlflow.models.model: Model logged without a signature and input example. Please set `input_example` parameter when logging the model to auto infer the model signature.\n",
      "Registered model 'ElasticnetModel' already exists. Creating a new version of this model...\n",
      "2025/05/20 22:17:54 INFO mlflow.store.model_registry.abstract_store: Waiting up to 300 seconds for model version to finish creation. Model name: ElasticnetModel, version 2\n",
      "Created version '2' of model 'ElasticnetModel'.\n"
     ]
    },
    {
     "name": "stdout",
     "output_type": "stream",
     "text": [
      "🏃 View run powerful-jay-36 at: https://dagshub.com/KerithPaul/End-End_ML_pipeline.mlflow/#/experiments/0/runs/af83a634d63f4a70bdc4db2e973221c4\n",
      "🧪 View experiment at: https://dagshub.com/KerithPaul/End-End_ML_pipeline.mlflow/#/experiments/0\n"
     ]
    }
   ],
   "source": [
    "try:\n",
    "    config = ConfigurationManager()\n",
    "    model_evaluation_config = config.get_model_evaluation_config()\n",
    "    model_evaluation_config = ModelEvaluation(config=model_evaluation_config)\n",
    "    model_evaluation_config.log_into_mlflow()\n",
    "\n",
    "except Exception as e:\n",
    "    raise e"
   ]
  },
  {
   "cell_type": "code",
   "execution_count": null,
   "id": "f692a08c",
   "metadata": {},
   "outputs": [],
   "source": []
  }
 ],
 "metadata": {
  "kernelspec": {
   "display_name": "dsops",
   "language": "python",
   "name": "python3"
  },
  "language_info": {
   "codemirror_mode": {
    "name": "ipython",
    "version": 3
   },
   "file_extension": ".py",
   "mimetype": "text/x-python",
   "name": "python",
   "nbconvert_exporter": "python",
   "pygments_lexer": "ipython3",
   "version": "3.11.9"
  }
 },
 "nbformat": 4,
 "nbformat_minor": 5
}
