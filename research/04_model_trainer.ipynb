{
 "cells": [
  {
   "cell_type": "code",
   "execution_count": 2,
   "id": "5aeb2a41",
   "metadata": {},
   "outputs": [],
   "source": [
    "import os"
   ]
  },
  {
   "cell_type": "code",
   "execution_count": 5,
   "id": "aec64710",
   "metadata": {},
   "outputs": [
    {
     "data": {
      "text/plain": [
       "'k:\\\\Environments\\\\End-End_ML_pipeline'"
      ]
     },
     "execution_count": 5,
     "metadata": {},
     "output_type": "execute_result"
    }
   ],
   "source": [
    "%pwd"
   ]
  },
  {
   "cell_type": "code",
   "execution_count": 4,
   "id": "ba0b214e",
   "metadata": {},
   "outputs": [],
   "source": [
    "os.chdir(\"../\")"
   ]
  },
  {
   "cell_type": "code",
   "execution_count": 6,
   "id": "0d22f5c9",
   "metadata": {},
   "outputs": [],
   "source": [
    "from dataclasses import dataclass\n",
    "from pathlib import Path\n",
    "\n",
    "@dataclass(frozen=True)\n",
    "\n",
    "class ModelTrainerConfig:\n",
    "    root_dir: Path\n",
    "    train_data_path: Path\n",
    "    test_data_path: Path\n",
    "    model_name: str\n",
    "    alpha: float\n",
    "    l1_ratio: float\n",
    "    target_column: str"
   ]
  },
  {
   "cell_type": "code",
   "execution_count": 7,
   "id": "4b95e2aa",
   "metadata": {},
   "outputs": [
    {
     "name": "stdout",
     "output_type": "stream",
     "text": [
      "[2025-05-20 10:32:43,120]: INFO: __init__: Logging setup complete.]\n"
     ]
    }
   ],
   "source": [
    "from DS_Ops.constants import *\n",
    "from DS_Ops.utils.common import read_yaml, create_directories"
   ]
  },
  {
   "cell_type": "code",
   "execution_count": null,
   "id": "9341634c",
   "metadata": {},
   "outputs": [],
   "source": [
    "class ConfigurationManager:\n",
    "    def __init__(\n",
    "            self,\n",
    "            config_filepath = CONFIG_FILE_PATH,\n",
    "            params_filepath = PARAMS_FILE_PATH,\n",
    "            schema_filepath = SCHEMA_FILE_PATH):\n",
    "        \n",
    "        self.config = read_yaml(config_filepath)\n",
    "        self.params = read_yaml(params_filepath)\n",
    "        self.schema = read_yaml(schema_filepath)\n",
    "\n",
    "        create_directories([self.config.artifacts_root])\n",
    "\n",
    "    \n",
    "    def get_model_trainer_config(self) -> ModelTrainerConfig:\n",
    "            config = self.config.model_trainer\n",
    "            params = self.params.ElasticNet\n",
    "            schema = self.schema.TARGET_COLUMN\n",
    "\n",
    "            create_directories([config.root_dir])\n",
    "\n",
    "            model_trainer_config = ModelTrainerConfig(\n",
    "                root_dir = config.root_dir,\n",
    "                train_data_path = config.train_data_path,\n",
    "                test_data_path = config.test_data_path,\n",
    "                model_name = config.model_name,\n",
    "                alpha = params.alpha,\n",
    "                l1_ratio = params.l1_ratio,\n",
    "                target_column = schema.name\n",
    "            )\n",
    "            return model_trainer_config\n",
    "        "
   ]
  },
  {
   "cell_type": "code",
   "execution_count": 9,
   "id": "c7370121",
   "metadata": {},
   "outputs": [],
   "source": [
    "import pandas as pd\n",
    "import os\n",
    "from DS_Ops import logger\n",
    "from sklearn.linear_model import ElasticNet\n",
    "import joblib"
   ]
  },
  {
   "cell_type": "code",
   "execution_count": 10,
   "id": "74b5250c",
   "metadata": {},
   "outputs": [],
   "source": [
    "class ModelTrainer:\n",
    "    def __init__(self, config: ModelTrainerConfig):\n",
    "        self.config = config\n",
    "\n",
    "    \n",
    "    def train(self):\n",
    "        train_data = pd.read_csv(self.config.train_data_path)\n",
    "        test_data = pd.read_csv(self.config.test_data_path)\n",
    "\n",
    "        train_x = train_data.drop([self.config.target_column], axis=1)\n",
    "        test_x = test_data.drop([self.config.target_column], axis=1)\n",
    "        train_y = train_data[[self.config.target_column]]\n",
    "        test_y = test_data[[self.config.target_column]]\n",
    "\n",
    "\n",
    "        lr = ElasticNet(alpha=self.config.alpha, l1_ratio=self.config.l1_ratio, random_state=42)\n",
    "        lr.fit(train_x,train_y)\n",
    "\n",
    "        joblib.dump(lr, os.path.join(self.config.root_dir, self.config.model_name))"
   ]
  },
  {
   "cell_type": "code",
   "execution_count": 11,
   "id": "f9e5e3e6",
   "metadata": {},
   "outputs": [
    {
     "name": "stdout",
     "output_type": "stream",
     "text": [
      "[2025-05-20 10:54:33,512]: INFO: common: yaml file: config\\config.yaml loaded successfully]\n",
      "[2025-05-20 10:54:33,557]: INFO: common: yaml file: params.yaml loaded successfully]\n",
      "[2025-05-20 10:54:33,581]: INFO: common: yaml file: schema.yaml loaded successfully]\n",
      "[2025-05-20 10:54:33,581]: INFO: common: created directory at: ./artifacts]\n",
      "[2025-05-20 10:54:33,581]: INFO: common: created directory at: artifacts/model_trainer]\n"
     ]
    },
    {
     "ename": "BoxKeyError",
     "evalue": "\"'ConfigBox' object has no attribute 'l1'\"",
     "output_type": "error",
     "traceback": [
      "\u001b[31m---------------------------------------------------------------------------\u001b[39m",
      "\u001b[31mKeyError\u001b[39m                                  Traceback (most recent call last)",
      "\u001b[36mFile \u001b[39m\u001b[32mk:\\Environments\\End-End_ML_pipeline\\dsops\\Lib\\site-packages\\box\\box.py:594\u001b[39m, in \u001b[36mbox.box.Box.__getitem__\u001b[39m\u001b[34m()\u001b[39m\n",
      "\u001b[31mKeyError\u001b[39m: 'l1'",
      "\nThe above exception was the direct cause of the following exception:\n",
      "\u001b[31mBoxKeyError\u001b[39m                               Traceback (most recent call last)",
      "\u001b[36mFile \u001b[39m\u001b[32mk:\\Environments\\End-End_ML_pipeline\\dsops\\Lib\\site-packages\\box\\box.py:633\u001b[39m, in \u001b[36mbox.box.Box.__getattr__\u001b[39m\u001b[34m()\u001b[39m\n",
      "\u001b[36mFile \u001b[39m\u001b[32mk:\\Environments\\End-End_ML_pipeline\\dsops\\Lib\\site-packages\\box\\box.py:621\u001b[39m, in \u001b[36mbox.box.Box.__getitem__\u001b[39m\u001b[34m()\u001b[39m\n",
      "\u001b[31mBoxKeyError\u001b[39m: \"'l1'\"",
      "\nDuring handling of the above exception, another exception occurred:\n",
      "\u001b[31mAttributeError\u001b[39m                            Traceback (most recent call last)",
      "\u001b[36mFile \u001b[39m\u001b[32mk:\\Environments\\End-End_ML_pipeline\\dsops\\Lib\\site-packages\\box\\box.py:635\u001b[39m, in \u001b[36mbox.box.Box.__getattr__\u001b[39m\u001b[34m()\u001b[39m\n",
      "\u001b[31mAttributeError\u001b[39m: 'ConfigBox' object has no attribute 'l1'",
      "\nThe above exception was the direct cause of the following exception:\n",
      "\u001b[31mBoxKeyError\u001b[39m                               Traceback (most recent call last)",
      "\u001b[36mFile \u001b[39m\u001b[32mk:\\Environments\\End-End_ML_pipeline\\dsops\\Lib\\site-packages\\box\\config_box.py:29\u001b[39m, in \u001b[36mbox.config_box.ConfigBox.__getattr__\u001b[39m\u001b[34m()\u001b[39m\n",
      "\u001b[36mFile \u001b[39m\u001b[32mk:\\Environments\\End-End_ML_pipeline\\dsops\\Lib\\site-packages\\box\\box.py:649\u001b[39m, in \u001b[36mbox.box.Box.__getattr__\u001b[39m\u001b[34m()\u001b[39m\n",
      "\u001b[31mBoxKeyError\u001b[39m: \"'ConfigBox' object has no attribute 'l1'\"",
      "\nDuring handling of the above exception, another exception occurred:\n",
      "\u001b[31mKeyError\u001b[39m                                  Traceback (most recent call last)",
      "\u001b[36mFile \u001b[39m\u001b[32mk:\\Environments\\End-End_ML_pipeline\\dsops\\Lib\\site-packages\\box\\box.py:594\u001b[39m, in \u001b[36mbox.box.Box.__getitem__\u001b[39m\u001b[34m()\u001b[39m\n",
      "\u001b[31mKeyError\u001b[39m: 'l1'",
      "\nThe above exception was the direct cause of the following exception:\n",
      "\u001b[31mBoxKeyError\u001b[39m                               Traceback (most recent call last)",
      "\u001b[36mFile \u001b[39m\u001b[32mk:\\Environments\\End-End_ML_pipeline\\dsops\\Lib\\site-packages\\box\\box.py:633\u001b[39m, in \u001b[36mbox.box.Box.__getattr__\u001b[39m\u001b[34m()\u001b[39m\n",
      "\u001b[36mFile \u001b[39m\u001b[32mk:\\Environments\\End-End_ML_pipeline\\dsops\\Lib\\site-packages\\box\\box.py:621\u001b[39m, in \u001b[36mbox.box.Box.__getitem__\u001b[39m\u001b[34m()\u001b[39m\n",
      "\u001b[31mBoxKeyError\u001b[39m: \"'l1'\"",
      "\nDuring handling of the above exception, another exception occurred:\n",
      "\u001b[31mAttributeError\u001b[39m                            Traceback (most recent call last)",
      "\u001b[36mFile \u001b[39m\u001b[32mk:\\Environments\\End-End_ML_pipeline\\dsops\\Lib\\site-packages\\box\\box.py:635\u001b[39m, in \u001b[36mbox.box.Box.__getattr__\u001b[39m\u001b[34m()\u001b[39m\n",
      "\u001b[31mAttributeError\u001b[39m: 'ConfigBox' object has no attribute 'l1'",
      "\nThe above exception was the direct cause of the following exception:\n",
      "\u001b[31mBoxKeyError\u001b[39m                               Traceback (most recent call last)",
      "\u001b[36mCell\u001b[39m\u001b[36m \u001b[39m\u001b[32mIn[11]\u001b[39m\u001b[32m, line 8\u001b[39m\n\u001b[32m      5\u001b[39m     model_trainer_config.train()\n\u001b[32m      7\u001b[39m \u001b[38;5;28;01mexcept\u001b[39;00m \u001b[38;5;167;01mException\u001b[39;00m \u001b[38;5;28;01mas\u001b[39;00m e:\n\u001b[32m----> \u001b[39m\u001b[32m8\u001b[39m     \u001b[38;5;28;01mraise\u001b[39;00m e\n",
      "\u001b[36mCell\u001b[39m\u001b[36m \u001b[39m\u001b[32mIn[11]\u001b[39m\u001b[32m, line 3\u001b[39m\n\u001b[32m      1\u001b[39m \u001b[38;5;28;01mtry\u001b[39;00m:\n\u001b[32m      2\u001b[39m     config = ConfigurationManager()\n\u001b[32m----> \u001b[39m\u001b[32m3\u001b[39m     model_trainer_config = \u001b[43mconfig\u001b[49m\u001b[43m.\u001b[49m\u001b[43mget_model_trainer_config\u001b[49m\u001b[43m(\u001b[49m\u001b[43m)\u001b[49m\n\u001b[32m      4\u001b[39m     model_trainer_config = ModelTrainer(config=model_trainer_config)\n\u001b[32m      5\u001b[39m     model_trainer_config.train()\n",
      "\u001b[36mCell\u001b[39m\u001b[36m \u001b[39m\u001b[32mIn[8]\u001b[39m\u001b[32m, line 28\u001b[39m, in \u001b[36mConfigurationManager.get_model_trainer_config\u001b[39m\u001b[34m(self)\u001b[39m\n\u001b[32m     18\u001b[39m schema = \u001b[38;5;28mself\u001b[39m.schema.TARGET_COLUMN\n\u001b[32m     20\u001b[39m create_directories([config.root_dir])\n\u001b[32m     22\u001b[39m model_trainer_config = ModelTrainerConfig(\n\u001b[32m     23\u001b[39m     root_dir = config.root_dir,\n\u001b[32m     24\u001b[39m     train_data_path = config.train_data_path,\n\u001b[32m     25\u001b[39m     test_data_path = config.test_data_path,\n\u001b[32m     26\u001b[39m     model_name = config.model_name,\n\u001b[32m     27\u001b[39m     alpha = params.alpha,\n\u001b[32m---> \u001b[39m\u001b[32m28\u001b[39m     l1_ratio = \u001b[43mparams\u001b[49m\u001b[43m.\u001b[49m\u001b[43ml1\u001b[49m.ratio,\n\u001b[32m     29\u001b[39m     target_column = schema.name\n\u001b[32m     30\u001b[39m )\n\u001b[32m     31\u001b[39m \u001b[38;5;28;01mreturn\u001b[39;00m model_trainer_config\n",
      "\u001b[36mFile \u001b[39m\u001b[32mk:\\Environments\\End-End_ML_pipeline\\dsops\\Lib\\site-packages\\box\\config_box.py:31\u001b[39m, in \u001b[36mbox.config_box.ConfigBox.__getattr__\u001b[39m\u001b[34m()\u001b[39m\n",
      "\u001b[36mFile \u001b[39m\u001b[32mk:\\Environments\\End-End_ML_pipeline\\dsops\\Lib\\site-packages\\box\\box.py:649\u001b[39m, in \u001b[36mbox.box.Box.__getattr__\u001b[39m\u001b[34m()\u001b[39m\n",
      "\u001b[31mBoxKeyError\u001b[39m: \"'ConfigBox' object has no attribute 'l1'\""
     ]
    }
   ],
   "source": [
    "try:\n",
    "    config = ConfigurationManager()\n",
    "    model_trainer_config = config.get_model_trainer_config()\n",
    "    model_trainer_config = ModelTrainer(config=model_trainer_config)\n",
    "    model_trainer_config.train()\n",
    "\n",
    "except Exception as e:\n",
    "    raise e"
   ]
  },
  {
   "cell_type": "code",
   "execution_count": null,
   "id": "c3601abb",
   "metadata": {},
   "outputs": [],
   "source": []
  }
 ],
 "metadata": {
  "kernelspec": {
   "display_name": "dsops",
   "language": "python",
   "name": "python3"
  },
  "language_info": {
   "codemirror_mode": {
    "name": "ipython",
    "version": 3
   },
   "file_extension": ".py",
   "mimetype": "text/x-python",
   "name": "python",
   "nbconvert_exporter": "python",
   "pygments_lexer": "ipython3",
   "version": "3.11.9"
  }
 },
 "nbformat": 4,
 "nbformat_minor": 5
}
